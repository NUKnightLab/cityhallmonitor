{
 "cells": [
  {
   "cell_type": "markdown",
   "metadata": {},
   "source": [
    "# Discovering Groups\n",
    "## working through ch. 3 of [Programming Collective Intelligence](http://shop.oreilly.com/product/9780596529321.do)\n",
    "\n",
    "We'll try implementing the clustering method described in chapter 3 of Toby Segaran's book but using Chicago City Council documents as our corpus.\n"
   ]
  },
  {
   "cell_type": "code",
   "execution_count": 9,
   "metadata": {
    "collapsed": true
   },
   "outputs": [],
   "source": [
    "import os, os.path\n",
    "os.environ['DJANGO_SETTINGS_MODULE'] = 'core.settings.loc'\n",
    "import sys; sys.path.append('..')\n",
    "# above assumes you're working out of the repository and that the app code \n",
    "# is in a directory adjacent to the one containing this file.\n",
    "import django\n",
    "django.setup()\n",
    "from cityhallmonitor.models import *\n"
   ]
  },
  {
   "cell_type": "markdown",
   "metadata": {},
   "source": [
    "### Counting the words in a Feed\n",
    "\n",
    "Instead of reading from a feed, we'll read from the scraped documents. For now, we'll do this using Django, although it could be instructive to do it again with raw SQL.\n",
    "\n",
    "The exercise proposes to cluster related blogs. The CHM corpus doesn't have such clear thematic divides. Sponsors is the best alternative I can think of. But what's the variation in how sponsors sponsor things?\n",
    "\n",
    "#### An aside: counts by sponsor and type\n"
   ]
  },
  {
   "cell_type": "code",
   "execution_count": 16,
   "metadata": {
    "collapsed": false
   },
   "outputs": [
    {
     "name": "stdout",
     "output_type": "stream",
     "text": [
      "Created sponsor_type_counts.csv with 88 rows, skipped 63 inactive 'people'\n"
     ]
    }
   ],
   "source": [
    "# there's probably a clever way to do this with Django query sets but I don't have the patience right now\n",
    "\n",
    "from collections import Counter\n",
    "import csv\n",
    "fields = ['person']\n",
    "fields.extend([x[0] for x in MatterType.objects.values_list('name').distinct()])\n",
    "\n",
    "if not os.path.isfile()\n",
    "with open(\"sponsor_type_counts.csv\",\"w\") as f:\n",
    "    w = csv.DictWriter(f,fieldnames=fields)\n",
    "    w.writerow(dict(zip(fields,fields))) # DictWriter idiom to establish header row\n",
    "    rows = active = inactive = 0\n",
    "    for p in Person.objects.all():\n",
    "        rows += 1\n",
    "        mt_names = [m.matter_type.name for m in p.matters.all()]\n",
    "        row = dict((f,0) for f in fields) # set defaults\n",
    "        row.update(Counter(mt_names))\n",
    "        if (set(row.values()) != set([0])):\n",
    "            active += 1\n",
    "            row['person'] = p.full_name\n",
    "            w.writerow(row)\n",
    "        else:\n",
    "            inactive += 1\n",
    "    print(\"Created sponsor_type_counts.csv with {} rows, skipped {} inactive 'people'\".format(active,inactive))\n"
   ]
  },
  {
   "cell_type": "code",
   "execution_count": 7,
   "metadata": {
    "collapsed": false
   },
   "outputs": [],
   "source": [
    "import agate\n",
    "sponsorship = agate.Table.from_csv('sponsor_type_counts.csv', row_names=lambda r: \"%(person)s\" % r)\n"
   ]
  },
  {
   "cell_type": "code",
   "execution_count": 9,
   "metadata": {
    "collapsed": false
   },
   "outputs": [
    {
     "data": {
      "text/plain": [
       "<agate.rows.Row at 0x106caf7f0>"
      ]
     },
     "execution_count": 9,
     "metadata": {},
     "output_type": "execute_result"
    }
   ],
   "source": [
    "sponsorship.rows['Arena, John']"
   ]
  }
 ],
 "metadata": {
  "kernelspec": {
   "display_name": "Python 3",
   "language": "python",
   "name": "python3"
  },
  "language_info": {
   "codemirror_mode": {
    "name": "ipython",
    "version": 3
   },
   "file_extension": ".py",
   "mimetype": "text/x-python",
   "name": "python",
   "nbconvert_exporter": "python",
   "pygments_lexer": "ipython3",
   "version": "3.4.3"
  }
 },
 "nbformat": 4,
 "nbformat_minor": 0
}
